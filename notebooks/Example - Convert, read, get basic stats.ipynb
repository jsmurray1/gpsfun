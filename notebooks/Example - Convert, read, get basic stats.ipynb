{
 "cells": [
  {
   "cell_type": "code",
   "execution_count": 4,
   "metadata": {},
   "outputs": [],
   "source": [
    "import sys\n",
    "sys.path.append(\"../gpsfun\")\n",
    "\n",
    "from readers import gpsbabel\n",
    "from tracks import Track\n",
    "\n",
    "# fitfile = \"../tests/test_data/has_2_laps.fit\"\n",
    "# fitfile = \"/Users/vincentdavis/Downloads/599650c3-87f0-42a0-b41c-1508348a1a16-MxkNnoQR.gpx\"\n",
    "fitfile = \"/Users/vincentdavis/repo/gpsfun/tests/test_data/Dan_Burke_failing.fit\"\n",
    "df = gpsbabel(fitfile)\n",
    "\n",
    "t = Track(df=df)"
   ]
  },
  {
   "cell_type": "code",
   "execution_count": 5,
   "metadata": {},
   "outputs": [
    {
     "data": {
      "text/plain": [
       "{'min_elevation': 1705.0,\n",
       " 'max_elevation': 1760.6,\n",
       " 'avg_elevation': 1728.3802628545077,\n",
       " 'ascent': 193.8000000000004,\n",
       " 'descent': -186.40000000000055}"
      ]
     },
     "execution_count": 5,
     "metadata": {},
     "output_type": "execute_result"
    }
   ],
   "source": [
    "t.elevation()"
   ]
  },
  {
   "cell_type": "code",
   "execution_count": 6,
   "metadata": {},
   "outputs": [
    {
     "data": {
      "text/plain": [
       "{'total_distance': 32534.20792258239}"
      ]
     },
     "execution_count": 6,
     "metadata": {},
     "output_type": "execute_result"
    }
   ],
   "source": [
    "t.distance()"
   ]
  },
  {
   "cell_type": "code",
   "execution_count": 7,
   "metadata": {},
   "outputs": [
    {
     "data": {
      "text/plain": [
       "{'start_time': Timestamp('2019-02-26 12:19:28'),\n",
       " 'end_time': Timestamp('2019-02-26 14:00:35'),\n",
       " 'elapsed_duration': Timedelta('0 days 01:41:07'),\n",
       " 'activity_time': Timedelta('0 days 01:41:07'),\n",
       " 'moving_time': Timedelta('0 days 01:41:05')}"
      ]
     },
     "execution_count": 7,
     "metadata": {},
     "output_type": "execute_result"
    }
   ],
   "source": [
    "# Distance metrics need to be done before time, to get moving time.\n",
    "t.time()"
   ]
  },
  {
   "cell_type": "code",
   "execution_count": 26,
   "metadata": {},
   "outputs": [
    {
     "name": "stdout",
     "output_type": "stream",
     "text": [
      "········\n"
     ]
    },
    {
     "data": {
      "text/plain": [
       "'Conifer, Colorado, United States'"
      ]
     },
     "execution_count": 26,
     "metadata": {},
     "output_type": "execute_result"
    }
   ],
   "source": [
    "import getpass\n",
    "pk = getpass.getpass() #Will ask for the private key\n",
    "\n",
    "# This returns a dict with all place info, what we really want is just the place_name\n",
    "t.place(private_token=pk)\n",
    "\n",
    "t.place_name"
   ]
  },
  {
   "cell_type": "code",
   "execution_count": null,
   "metadata": {},
   "outputs": [],
   "source": []
  }
 ],
 "metadata": {
  "kernelspec": {
   "display_name": "Python 3",
   "language": "python",
   "name": "python3"
  },
  "language_info": {
   "codemirror_mode": {
    "name": "ipython",
    "version": 3
   },
   "file_extension": ".py",
   "mimetype": "text/x-python",
   "name": "python",
   "nbconvert_exporter": "python",
   "pygments_lexer": "ipython3",
   "version": "3.8.0"
  }
 },
 "nbformat": 4,
 "nbformat_minor": 4
}
