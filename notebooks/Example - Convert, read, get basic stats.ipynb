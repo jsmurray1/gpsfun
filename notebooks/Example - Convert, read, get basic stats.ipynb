{
 "cells": [
  {
   "cell_type": "markdown",
   "metadata": {},
   "source": [
    "#### Read activity file\n",
    "* Read a gpx activity file and return a dataframe (df).\n",
    "* Load df into the Track class to compute some metrics"
   ]
  },
  {
   "cell_type": "code",
   "execution_count": 6,
   "metadata": {},
   "outputs": [],
   "source": [
    "import sys\n",
    "sys.path.append(\"../gpsfun\")\n",
    "\n",
    "from readers import gpsbabel\n",
    "from tracks import Track\n",
    "\n",
    "fitfile = \"../tests/test_data/gpx/test_gpx_1.gpx\"\n",
    "df = gpsbabel(fitfile)\n",
    "\n",
    "t = Track(df=df)"
   ]
  },
  {
   "cell_type": "markdown",
   "metadata": {},
   "source": [
    "##### Each metric calculation saves the values to the class as well as returing a dict."
   ]
  },
  {
   "cell_type": "code",
   "execution_count": 2,
   "metadata": {},
   "outputs": [
    {
     "data": {
      "text/plain": [
       "{'min_elevation': 1881.0,\n",
       " 'max_elevation': 2402.4,\n",
       " 'avg_elevation': 2147.082558643611,\n",
       " 'ascent': 1919.7999999999963,\n",
       " 'descent': -1907.9999999999961}"
      ]
     },
     "execution_count": 2,
     "metadata": {},
     "output_type": "execute_result"
    }
   ],
   "source": [
    "t.elevation()"
   ]
  },
  {
   "cell_type": "code",
   "execution_count": 3,
   "metadata": {},
   "outputs": [
    {
     "data": {
      "text/plain": [
       "{'total_distance': 85485.77194022556}"
      ]
     },
     "execution_count": 3,
     "metadata": {},
     "output_type": "execute_result"
    }
   ],
   "source": [
    "t.distance()"
   ]
  },
  {
   "cell_type": "markdown",
   "metadata": {},
   "source": [
    "##### Distance metrics need to be done before time, to get moving time."
   ]
  },
  {
   "cell_type": "code",
   "execution_count": 7,
   "metadata": {},
   "outputs": [
    {
     "data": {
      "text/plain": [
       "{'start_time': Timestamp('2020-05-30 14:14:13'),\n",
       " 'end_time': Timestamp('2020-05-30 20:00:13'),\n",
       " 'elapsed_duration': Timedelta('0 days 05:46:00'),\n",
       " 'activity_time': Timedelta('0 days 05:46:00'),\n",
       " 'moving_time': Timedelta('0 days 05:27:10')}"
      ]
     },
     "execution_count": 7,
     "metadata": {},
     "output_type": "execute_result"
    }
   ],
   "source": [
    "t.time()"
   ]
  },
  {
   "cell_type": "markdown",
   "metadata": {},
   "source": [
    "##### You will need a free key to access the mapbox api"
   ]
  },
  {
   "cell_type": "code",
   "execution_count": 9,
   "metadata": {},
   "outputs": [
    {
     "name": "stdout",
     "output_type": "stream",
     "text": [
      "········\n"
     ]
    },
    {
     "data": {
      "text/plain": [
       "'Conifer, Colorado, United States'"
      ]
     },
     "execution_count": 9,
     "metadata": {},
     "output_type": "execute_result"
    }
   ],
   "source": [
    "import getpass\n",
    "pk = getpass.getpass() #Will ask for the private key\n",
    "\n",
    "# This returns a dict with all place info, what we really want is just the place_name\n",
    "t.place(private_token=pk)\n",
    "\n",
    "t.place_name"
   ]
  }
 ],
 "metadata": {
  "kernelspec": {
   "display_name": "Python 3",
   "language": "python",
   "name": "python3"
  },
  "language_info": {
   "codemirror_mode": {
    "name": "ipython",
    "version": 3
   },
   "file_extension": ".py",
   "mimetype": "text/x-python",
   "name": "python",
   "nbconvert_exporter": "python",
   "pygments_lexer": "ipython3",
   "version": "3.8.0"
  }
 },
 "nbformat": 4,
 "nbformat_minor": 4
}
