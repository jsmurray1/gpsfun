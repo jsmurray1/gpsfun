{
 "cells": [
  {
   "cell_type": "code",
   "execution_count": 20,
   "metadata": {},
   "outputs": [
    {
     "name": "stdout",
     "output_type": "stream",
     "text": [
      "The autoreload extension is already loaded. To reload it, use:\n",
      "  %reload_ext autoreload\n"
     ]
    }
   ],
   "source": [
    "%load_ext autoreload\n",
    "%autoreload 2"
   ]
  },
  {
   "cell_type": "code",
   "execution_count": 83,
   "metadata": {},
   "outputs": [],
   "source": [
    "from scipy.spatial import distance\n",
    "import pandas as pd\n",
    "import sys\n",
    "sys.path.append(\"../gpsfun/gpsfun\") \n",
    "from readers import gpsbabel\n",
    "\n",
    "segment = gpsbabel(\"../tests/test_data/segment_test_1_short.gpx\")[['Latitude', 'Longitude']]\n",
    "# segment = pd.read_csv(\"../tests/test_data/test_out.csv\")[['Latitude', 'Longitude']]\n",
    "activity = gpsbabel(\"../tests/test_data/segment_test_1b.gpx\")[['Latitude', 'Longitude']]\n",
    "\n",
    "a = distance.cdist(segment, activity, 'euclidean')\n",
    "b = a[a < .00001]"
   ]
  },
  {
   "cell_type": "code",
   "execution_count": 84,
   "metadata": {},
   "outputs": [
    {
     "data": {
      "text/plain": [
       "array([[0.07564264, 0.07564264, 0.07566463, ..., 0.07561916, 0.07561916,\n",
       "        0.07561916],\n",
       "       [0.0757007 , 0.0757007 , 0.0757227 , ..., 0.07567722, 0.07567722,\n",
       "        0.07567722],\n",
       "       [0.07576398, 0.07576398, 0.07578606, ..., 0.07574051, 0.07574051,\n",
       "        0.07574051],\n",
       "       ...,\n",
       "       [0.07629253, 0.07629253, 0.07631448, ..., 0.07626904, 0.07626904,\n",
       "        0.07626904],\n",
       "       [0.07623857, 0.07623857, 0.07626057, ..., 0.07621509, 0.07621509,\n",
       "        0.07621509],\n",
       "       [0.07623758, 0.07623758, 0.07625968, ..., 0.07621411, 0.07621411,\n",
       "        0.07621411]])"
      ]
     },
     "execution_count": 84,
     "metadata": {},
     "output_type": "execute_result"
    }
   ],
   "source": [
    "a"
   ]
  },
  {
   "cell_type": "code",
   "execution_count": 49,
   "metadata": {},
   "outputs": [
    {
     "data": {
      "text/plain": [
       "594"
      ]
     },
     "execution_count": 49,
     "metadata": {},
     "output_type": "execute_result"
    }
   ],
   "source": [
    "len(b)"
   ]
  },
  {
   "cell_type": "code",
   "execution_count": 39,
   "metadata": {},
   "outputs": [
    {
     "name": "stdout",
     "output_type": "stream",
     "text": [
      "Pretty printing has been turned OFF\n"
     ]
    }
   ],
   "source": []
  },
  {
   "cell_type": "code",
   "execution_count": null,
   "metadata": {},
   "outputs": [],
   "source": []
  }
 ],
 "metadata": {
  "kernelspec": {
   "display_name": "Python 3",
   "language": "python",
   "name": "python3"
  },
  "language_info": {
   "codemirror_mode": {
    "name": "ipython",
    "version": 3
   },
   "file_extension": ".py",
   "mimetype": "text/x-python",
   "name": "python",
   "nbconvert_exporter": "python",
   "pygments_lexer": "ipython3",
   "version": "3.8.0"
  }
 },
 "nbformat": 4,
 "nbformat_minor": 4
}
